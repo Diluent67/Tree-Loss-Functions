{
 "cells": [
  {
   "cell_type": "markdown",
   "metadata": {},
   "source": [
    "## Data Preprocessing"
   ]
  },
  {
   "cell_type": "code",
   "execution_count": null,
   "metadata": {},
   "outputs": [],
   "source": [
    "import pandas as pd\n",
    "import numpy as np\n",
    "import matplotlib.pyplot as plt\n",
    "from sklearn.impute import SimpleImputer\n",
    "from sklearn.model_selection import train_test_split\n",
    "from sklearn import metrics\n",
    "from sklearn.metrics import *"
   ]
  },
  {
   "cell_type": "code",
   "execution_count": null,
   "metadata": {},
   "outputs": [],
   "source": [
    "# Importing data\n",
    "train = pd.read_csv(\"house-prices/train.csv\")\n",
    "test = pd.read_csv(\"house-prices/test.csv\")"
   ]
  },
  {
   "cell_type": "code",
   "execution_count": null,
   "metadata": {},
   "outputs": [],
   "source": [
    "# Drop columns with significant number of null values\n",
    "null_values = train.isnull().sum()\n",
    "to_delete = null_values[null_values > (train.shape[0] / 4)]\n",
    "train.drop(list(to_delete.index), axis=1, inplace=True)\n",
    "test.drop(list(to_delete.index), axis=1, inplace=True)"
   ]
  },
  {
   "cell_type": "code",
   "execution_count": null,
   "metadata": {},
   "outputs": [],
   "source": [
    "# Divide into categorical and numerical features\n",
    "categorical = [col for col in train.columns.values if train[col].dtype == 'object']\n",
    "train_cat = train[categorical]\n",
    "train_num = train.drop(categorical, axis=1)"
   ]
  },
  {
   "cell_type": "code",
   "execution_count": null,
   "metadata": {},
   "outputs": [],
   "source": [
    "# Impute missing numerical values\n",
    "imp = SimpleImputer(missing_values=np.nan, strategy='mean')\n",
    "train_num = pd.DataFrame(imp.fit_transform(train_num), columns=train_num.columns)\n",
    "\n",
    "# Impute missing categorical values and one-hot encode\n",
    "imp = SimpleImputer(missing_values=np.nan, strategy=\"most_frequent\")\n",
    "train_cat = pd.DataFrame(imp.fit_transform(train_cat), columns=train_num.columns)\n",
    "train_cat = pd.get_dummies(train_cat)\n",
    "\n",
    "# Join two dataframes\n",
    "train = pd.concat([train_num, train_cat], axis=1)"
   ]
  },
  {
   "cell_type": "code",
   "execution_count": null,
   "metadata": {},
   "outputs": [],
   "source": [
    "# Split into training and test datasets\n",
    "train_data = train.drop(['SalePrice'], axis=1).values\n",
    "train_values = train['SalePrice'].values\n",
    "X_train, X_test, y_train, y_test = train_test_split(train_data[:500], train_values[:500], shuffle=True, test_size=0.20)\n",
    "\n",
    "# Convert into dataframes\n",
    "X_train = pd.DataFrame(X_train)\n",
    "X_test = pd.DataFrame(X_test)"
   ]
  },
  {
   "cell_type": "markdown",
   "metadata": {},
   "source": [
    "## Regression Tree\n",
    "Much of this code was taken from this source: https://levelup.gitconnected.com/building-a-decision-tree-from-scratch-in-python-machine-learning-from-scratch-part-ii-6e2e56265b19\n"
   ]
  },
  {
   "cell_type": "code",
   "execution_count": null,
   "metadata": {},
   "outputs": [],
   "source": [
    "class Loss_Function:\n",
    "    \n",
    "    def __init__(self, left, right):\n",
    "        self.y_left = np.array([np.mean(left)] * len(left))\n",
    "        self.left = left\n",
    "        self.right = right\n",
    "        self.y_right = np.array([np.mean(right)] * len(right))\n",
    "\n",
    "    def mse(self):\n",
    "        return mean_squared_error(self.y_left, self.left) + mean_squared_error(self.y_right, self.right)\n",
    "    \n",
    "    def mae(self):\n",
    "        return mean_squared_error(self.y_left, self.left) + mean_squared_error(self.y_right, self.right)\n",
    "    \n",
    "    def msle(self):\n",
    "        return mean_squared_log_error(self.y_left, self.left) + mean_squared_log_error(self.y_right, self.right)\n",
    "    \n",
    "    def median_ae(self):\n",
    "        return median_absolute_error(self.y_left, self.left) + median_absolute_error(self.y_right, self.right)\n",
    "    \n",
    "    def mpd(self):\n",
    "        return mean_poisson_deviance(self.y_left, self.left) + mean_poisson_deviance(self.y_right, self.right)\n",
    "    \n",
    "    def mgd(self):\n",
    "        return mean_gamma_deviance(self.y_left, self.left) + mean_gamma_deviance(self.y_right, self.right)\n",
    "    \n",
    "    def mtd(self):\n",
    "        return mean_tweedie_deviance(self.y_left, self.left) + mean_tweedie_deviance(self.y_right, self.right)\n",
    "    \n",
    "    def me(self):\n",
    "        return max_error(self.y_left, self.left) + max_error(self.y_right, self.right)"
   ]
  },
  {
   "cell_type": "code",
   "execution_count": null,
   "metadata": {},
   "outputs": [],
   "source": [
    "class Node:\n",
    "\n",
    "    def __init__(self, x, y, idxs, loss_fn, min_leaf=5):\n",
    "        self.x = x \n",
    "        self.y = y\n",
    "        self.loss_fn = loss_fn\n",
    "        self.idxs = idxs \n",
    "        self.min_leaf = min_leaf\n",
    "        self.row_count = len(idxs)\n",
    "        self.col_count = x.shape[1]\n",
    "        self.val = np.mean(y[idxs])\n",
    "        self.score = float('inf')\n",
    "        self.find_varsplit()\n",
    "        \n",
    "    def find_varsplit(self):\n",
    "        for c in range(self.col_count): self.find_better_split(c)\n",
    "        if self.is_leaf: \n",
    "            return\n",
    "        x = self.split_col\n",
    "        lhs = np.nonzero(x <= self.split)[0]\n",
    "        rhs = np.nonzero(x > self.split)[0]\n",
    "        self.lhs = Node(self.x, self.y, self.idxs[lhs], self.loss_fn, self.min_leaf)\n",
    "        self.rhs = Node(self.x, self.y, self.idxs[rhs], self.loss_fn, self.min_leaf)\n",
    "        \n",
    "    def find_better_split(self, var_idx):\n",
    "        x = self.x.values[self.idxs, var_idx]\n",
    "\n",
    "        for r in range(self.row_count):\n",
    "            lhs = x <= x[r]\n",
    "            rhs = x > x[r]\n",
    "            if rhs.sum() < self.min_leaf or lhs.sum() < self.min_leaf: \n",
    "                continue\n",
    "\n",
    "            curr_score = self.find_score(lhs, rhs)\n",
    "            if curr_score < self.score: \n",
    "                self.var_idx = var_idx\n",
    "                self.score = curr_score\n",
    "                self.split = x[r]\n",
    "                \n",
    "    def find_score(self, lhs, rhs):\n",
    "        y = self.y[self.idxs]\n",
    "        left = y[lhs]\n",
    "        right = y[rhs]\n",
    "        loss = Loss_Function(left, right)\n",
    "        fn = getattr(loss, self.loss_fn)\n",
    "        return fn()\n",
    "                \n",
    "    @property\n",
    "    def split_col(self): \n",
    "        return self.x.values[self.idxs,self.var_idx]\n",
    "                \n",
    "    @property\n",
    "    def is_leaf(self): \n",
    "        return self.score == float('inf')                \n",
    "\n",
    "    def predict(self, x):\n",
    "        return np.array([self.predict_row(xi) for xi in x])\n",
    "\n",
    "    def predict_row(self, xi):\n",
    "        if self.is_leaf: \n",
    "            return self.val\n",
    "        node = self.lhs if xi[self.var_idx] <= self.split else self.rhs\n",
    "        return node.predict_row(xi)"
   ]
  },
  {
   "cell_type": "code",
   "execution_count": null,
   "metadata": {},
   "outputs": [],
   "source": [
    "class DecisionTreeRegressor:\n",
    "  \n",
    "    def fit(self, X, y, loss_fn, min_leaf = 5):\n",
    "        self.dtree = Node(X, y, np.array(np.arange(len(y))), loss_fn, min_leaf)\n",
    "        return self\n",
    "\n",
    "    def predict(self, X):\n",
    "        return self.dtree.predict(X.values)"
   ]
  },
  {
   "cell_type": "code",
   "execution_count": null,
   "metadata": {},
   "outputs": [],
   "source": [
    "# Sample run with MAE\n",
    "regressor = DecisionTreeRegressor().fit(X_train, y_train, 'mae')\n",
    "preds = regressor.predict(X_test)\n",
    "metrics.r2_score(y_test, preds)"
   ]
  },
  {
   "cell_type": "code",
   "execution_count": null,
   "metadata": {},
   "outputs": [],
   "source": [
    "functions = {'mse': 0, 'mae': 0, 'msle': 0, 'median_se': 0, 'mpd': 0, 'mgd': 0, 'mtd': 0, 'me': 0}\n",
    "\n",
    "for fn in functions: \n",
    "    regressor = DecisionTreeRegressor().fit(X_train, y_train, fn)\n",
    "    preds = regressor.predict(X_test)\n",
    "    score = metrics.r2_score(y_test, preds)\n",
    "    functions[fn] = score"
   ]
  }
 ],
 "metadata": {
  "kernelspec": {
   "display_name": "Python 3",
   "language": "python",
   "name": "python3"
  },
  "language_info": {
   "codemirror_mode": {
    "name": "ipython",
    "version": 3
   },
   "file_extension": ".py",
   "mimetype": "text/x-python",
   "name": "python",
   "nbconvert_exporter": "python",
   "pygments_lexer": "ipython3",
   "version": "3.7.0"
  }
 },
 "nbformat": 4,
 "nbformat_minor": 4
}
